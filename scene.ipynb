{
  "nbformat": 4,
  "nbformat_minor": 0,
  "metadata": {
    "colab": {
      "provenance": [],
      "collapsed_sections": []
    },
    "kernelspec": {
      "name": "python3",
      "display_name": "Python 3"
    },
    "language_info": {
      "name": "python"
    }
  },
  "cells": [
    {
      "cell_type": "code",
      "source": [
        "# !pip install liac-arff\n",
        "# !pip install scikit-multilearn\n",
        "# !pip uninstall scikit-learn -y\n",
        "# !pip install scikit-learn==0.24.1"
      ],
      "metadata": {
        "id": "ObpgDYCZ2GX3"
      },
      "execution_count": 1,
      "outputs": []
    },
    {
      "cell_type": "code",
      "source": [
        "from warnings import filterwarnings\n",
        "filterwarnings('ignore')"
      ],
      "metadata": {
        "id": "GGgFcuFsGDde"
      },
      "execution_count": 2,
      "outputs": []
    },
    {
      "cell_type": "code",
      "source": [
        "import tqdm\n",
        "import time\n",
        "import random\n",
        "import numpy as np\n",
        "from scipy import spatial\n",
        "from scipy.stats import pearsonr\n",
        "from skmultilearn.dataset import load_from_arff\n",
        "\n",
        "from sklearn.linear_model import LogisticRegression\n",
        "from sklearn.neighbors import KNeighborsClassifier\n",
        "from sklearn.naive_bayes import GaussianNB\n",
        "from skmultilearn.problem_transform import BinaryRelevance"
      ],
      "metadata": {
        "id": "qendvlV-gO_P"
      },
      "execution_count": 3,
      "outputs": []
    },
    {
      "cell_type": "code",
      "source": [
        "X, y = load_from_arff(\"Scene.arff\", label_count = 6)\n",
        "X = X.toarray()\n",
        "y = y.toarray()\n",
        "\n",
        "index = np.arange(len(X))\n",
        "np.random.shuffle(index)\n",
        "X, y = X[index], y[index]\n",
        "\n",
        "print(X.shape, y.shape)"
      ],
      "metadata": {
        "colab": {
          "base_uri": "https://localhost:8080/"
        },
        "id": "N2L17HNy_uqu",
        "outputId": "4a855f99-5cad-462c-892e-523a0cdb7882"
      },
      "execution_count": 4,
      "outputs": [
        {
          "output_type": "stream",
          "name": "stdout",
          "text": [
            "(2407, 294) (2407, 6)\n"
          ]
        }
      ]
    },
    {
      "cell_type": "code",
      "source": [
        "print(X)\n",
        "print(y)"
      ],
      "metadata": {
        "colab": {
          "base_uri": "https://localhost:8080/"
        },
        "id": "uGnwMK0qc2MU",
        "outputId": "f8dc3aac-4235-4678-996d-3a8679c9117e"
      },
      "execution_count": 5,
      "outputs": [
        {
          "output_type": "stream",
          "name": "stdout",
          "text": [
            "[[0.716098 0.718348 0.714864 ... 0.013592 0.004946 0.004211]\n",
            " [0.885591 0.879806 0.860725 ... 0.009589 0.001896 0.002645]\n",
            " [0.631132 0.604911 0.497497 ... 0.050385 0.141724 0.169806]\n",
            " ...\n",
            " [0.484628 0.533303 0.577971 ... 0.080438 0.058844 0.043378]\n",
            " [0.698284 0.744366 0.774499 ... 0.003052 0.00363  0.00377 ]\n",
            " [0.537221 0.53136  0.484572 ... 0.007565 0.008    0.016748]]\n",
            "[[1 0 0 0 0 0]\n",
            " [1 0 0 0 0 0]\n",
            " [0 0 0 0 0 1]\n",
            " ...\n",
            " [0 0 0 0 1 0]\n",
            " [0 1 0 0 0 0]\n",
            " [0 1 0 0 0 0]]\n"
          ]
        }
      ]
    },
    {
      "cell_type": "code",
      "source": [
        "train_samples = int(X.shape[0] * 0.6)\n",
        "\n",
        "X_train = X[:train_samples, :]\n",
        "y_train = y[:train_samples]\n",
        "X_test = X[train_samples:, :]\n",
        "y_test = y[train_samples:]\n",
        "\n",
        "print(\"X_train:\", X_train.shape, \"y_train:\", y_train.shape)\n",
        "print(\"X_test:\", X_test.shape, \"y_test:\", y_test.shape)"
      ],
      "metadata": {
        "id": "QzvjKRbXiltG",
        "colab": {
          "base_uri": "https://localhost:8080/"
        },
        "outputId": "2f7da08d-5e5e-4b57-fed1-7f51d9ec7149"
      },
      "execution_count": 6,
      "outputs": [
        {
          "output_type": "stream",
          "name": "stdout",
          "text": [
            "X_train: (1444, 294) y_train: (1444, 6)\n",
            "X_test: (963, 294) y_test: (963, 6)\n"
          ]
        }
      ]
    },
    {
      "cell_type": "code",
      "source": [
        "d = X_train.shape[1] \n",
        "l = y_train.shape[1]\n",
        "print(\"d:\", d, \"l:\", l)"
      ],
      "metadata": {
        "id": "TtqDGhDDvixu",
        "colab": {
          "base_uri": "https://localhost:8080/"
        },
        "outputId": "d8157fc9-58dd-4eef-ebee-6d74db2e05cc"
      },
      "execution_count": 7,
      "outputs": [
        {
          "output_type": "stream",
          "name": "stdout",
          "text": [
            "d: 294 l: 6\n"
          ]
        }
      ]
    },
    {
      "cell_type": "code",
      "source": [
        "def score(y, pred):\n",
        "    pred = pred.toarray()\n",
        "    score = 0\n",
        "    for i in range(y.shape[0]):\n",
        "        score += np.sum(y[i] * pred[i]) / (np.sum(y[i]) + np.sum(pred[i]) - np.sum(y[i] * pred[i]))\n",
        "    score /= y.shape[0]\n",
        "    return score"
      ],
      "metadata": {
        "id": "ZmZYxXp7mGFD"
      },
      "execution_count": 8,
      "outputs": []
    },
    {
      "cell_type": "markdown",
      "source": [
        "## Without FS, taking the whole dataset"
      ],
      "metadata": {
        "id": "O7Hj_aWclvxl"
      }
    },
    {
      "cell_type": "code",
      "source": [
        "X_train_subset = X_train[:, :]\n",
        "X_test_subset = X_test[:, :]\n",
        "\n",
        "print(\"X_train_subset:\", X_train_subset.shape, \"y_train:\", y_train.shape)\n",
        "print(\"X_test_subset:\", X_test_subset.shape, \"y_test:\", y_test.shape)\n",
        "\n",
        "lr = BinaryRelevance(classifier = LogisticRegression())\n",
        "lr.fit(X_train_subset, y_train)\n",
        "\n",
        "lr_train_score = score(y_train, lr.predict(X_train_subset))\n",
        "lr_test_score = score(y_test, lr.predict(X_test_subset))\n",
        "\n",
        "print(\"lr train accu:\", round(lr_train_score, 4))\n",
        "print(\"lr test_accu:\", round(lr_test_score, 4))\n",
        "\n",
        "nb = BinaryRelevance(classifier = GaussianNB())\n",
        "nb.fit(X_train_subset, y_train)\n",
        "\n",
        "nb_train_score = score(y_train, nb.predict(X_train_subset))\n",
        "nb_test_score = score(y_test, nb.predict(X_test_subset))\n",
        "\n",
        "print(\"nb train accu:\", round(nb_train_score, 4))\n",
        "print(\"nb test_accu:\", round(nb_test_score, 4))\n",
        "\n",
        "knn = BinaryRelevance(classifier = KNeighborsClassifier())\n",
        "knn.fit(X_train_subset, y_train)\n",
        "\n",
        "knn_train_score = score(y_train, knn.predict(X_train_subset))\n",
        "knn_test_score = score(y_test, knn.predict(X_test_subset))\n",
        "\n",
        "print(\"knn train accu:\", round(knn_train_score, 4))\n",
        "print(\"knn test_accu:\", round(knn_test_score, 4))\n",
        "\n",
        "avg_train_score = (lr_train_score + nb_train_score + knn_train_score) / 3\n",
        "avg_test_score = (lr_test_score + nb_test_score + knn_test_score) / 3\n",
        "\n",
        "print(\"avg train accu:\", round(avg_train_score, 4))\n",
        "print(\"avg test_accu:\", round(avg_test_score, 4))"
      ],
      "metadata": {
        "id": "ritvyL6DZuef",
        "colab": {
          "base_uri": "https://localhost:8080/"
        },
        "outputId": "39571dd9-6cd6-4468-9529-5f6507cf826e"
      },
      "execution_count": 9,
      "outputs": [
        {
          "output_type": "stream",
          "name": "stdout",
          "text": [
            "X_train_subset: (1444, 294) y_train: (1444, 6)\n",
            "X_test_subset: (963, 294) y_test: (963, 6)\n",
            "lr train accu: 0.7281\n",
            "lr test_accu: 0.5692\n",
            "nb train accu: 0.4916\n",
            "nb test_accu: 0.4664\n",
            "knn train accu: 0.7509\n",
            "knn test_accu: 0.6506\n",
            "avg train accu: 0.6569\n",
            "avg test_accu: 0.5621\n"
          ]
        }
      ]
    },
    {
      "cell_type": "code",
      "source": [
        "beg = time.time()\n",
        "fcorr = np.corrcoef(X_train.T)\n",
        "end = time.time()\n",
        "fcorr = np.absolute(fcorr)\n",
        "print(fcorr.shape)\n",
        "print(fcorr)"
      ],
      "metadata": {
        "id": "8v9TphKArTEd",
        "colab": {
          "base_uri": "https://localhost:8080/"
        },
        "outputId": "0955997d-e7d3-4c4e-f470-55a31d24f877"
      },
      "execution_count": 10,
      "outputs": [
        {
          "output_type": "stream",
          "name": "stdout",
          "text": [
            "(294, 294)\n",
            "[[1.         0.90458739 0.80937588 ... 0.02353183 0.0133419  0.00882624]\n",
            " [0.90458739 1.         0.92395526 ... 0.03424692 0.02484997 0.00205051]\n",
            " [0.80937588 0.92395526 1.         ... 0.05210499 0.04313094 0.01876825]\n",
            " ...\n",
            " [0.02353183 0.03424692 0.05210499 ... 1.         0.74017764 0.54948212]\n",
            " [0.0133419  0.02484997 0.04313094 ... 0.74017764 1.         0.69639586]\n",
            " [0.00882624 0.00205051 0.01876825 ... 0.54948212 0.69639586 1.        ]]\n"
          ]
        }
      ]
    },
    {
      "cell_type": "code",
      "source": [
        "flcorr = np.zeros((d, l))\n",
        "for i in tqdm.tqdm(range(d)):\n",
        "    for j in range(l):\n",
        "        flcorr[i][j] = pearsonr(X_train[:, i], y_train[:, j])[0] + 0.001\n",
        "flcorr = np.absolute(flcorr)\n",
        "flcorr = np.max(flcorr, axis = 1)\n",
        "print(flcorr.shape)\n",
        "print(flcorr)"
      ],
      "metadata": {
        "id": "27xui0T814rE",
        "colab": {
          "base_uri": "https://localhost:8080/"
        },
        "outputId": "d623eebb-c239-436a-e13c-a42f9b91c641"
      },
      "execution_count": 11,
      "outputs": [
        {
          "output_type": "stream",
          "name": "stderr",
          "text": [
            "100%|██████████| 294/294 [00:00<00:00, 1254.03it/s]"
          ]
        },
        {
          "output_type": "stream",
          "name": "stdout",
          "text": [
            "(294,)\n",
            "[0.28273421 0.26590678 0.25509439 0.25928995 0.27549983 0.29056431\n",
            " 0.28699719 0.22803796 0.21976526 0.21204444 0.21241481 0.25181592\n",
            " 0.25576506 0.24167818 0.16062914 0.15751375 0.13306506 0.11759181\n",
            " 0.17233292 0.18768456 0.19209626 0.19461931 0.1702976  0.17727248\n",
            " 0.16527699 0.19810162 0.19973014 0.19996536 0.28333268 0.31780083\n",
            " 0.30706085 0.3048099  0.28412383 0.28118102 0.29941676 0.36576758\n",
            " 0.38183213 0.39368493 0.3904136  0.38769194 0.38075362 0.36586549\n",
            " 0.40078403 0.41180708 0.42084785 0.40756572 0.41440625 0.40847055\n",
            " 0.39835166 0.23165973 0.23340933 0.22696055 0.22292932 0.19096343\n",
            " 0.18530888 0.20247687 0.19352218 0.13315675 0.11467273 0.11914302\n",
            " 0.09724758 0.12562534 0.15985459 0.17632667 0.1075549  0.08525056\n",
            " 0.10154026 0.0706012  0.06457255 0.11526652 0.11515333 0.1021791\n",
            " 0.1479756  0.12160149 0.096101   0.14774991 0.1153071  0.16059333\n",
            " 0.17024368 0.21433376 0.21372298 0.19735482 0.20528545 0.18498176\n",
            " 0.25317081 0.22364909 0.25461264 0.28993096 0.28770957 0.25994599\n",
            " 0.24929946 0.25026039 0.23971009 0.263921   0.28555026 0.30695906\n",
            " 0.28690821 0.24548976 0.60546067 0.60259576 0.59480462 0.59829903\n",
            " 0.60144655 0.59873209 0.58490132 0.598549   0.58237948 0.56835596\n",
            " 0.57323916 0.58889521 0.58572925 0.58972167 0.54499927 0.53037643\n",
            " 0.55140001 0.57124444 0.57501131 0.56431452 0.56134153 0.49777114\n",
            " 0.49020529 0.51532701 0.53883098 0.54040938 0.51318409 0.51615656\n",
            " 0.40125228 0.42228664 0.45346628 0.47683524 0.48521455 0.44922237\n",
            " 0.43176854 0.36196474 0.39766865 0.41002787 0.42114465 0.39824866\n",
            " 0.37528731 0.33616751 0.29003235 0.31597724 0.31663935 0.33306594\n",
            " 0.31408298 0.30302064 0.29137293 0.310858   0.31461895 0.34766919\n",
            " 0.32007296 0.34923337 0.35443413 0.37065395 0.35309981 0.32868468\n",
            " 0.2751235  0.3334627  0.32331363 0.30963001 0.32093445 0.34143441\n",
            " 0.31070694 0.2884598  0.29674228 0.33355312 0.31352623 0.30623653\n",
            " 0.26644701 0.23616112 0.22591179 0.21506697 0.25745045 0.22872417\n",
            " 0.23063094 0.23970962 0.19106849 0.21450018 0.18394145 0.1689234\n",
            " 0.21189889 0.22536948 0.17123468 0.17188382 0.17511263 0.18047632\n",
            " 0.16545079 0.15957959 0.19461459 0.13097613 0.12141675 0.1350925\n",
            " 0.12637713 0.16644169 0.1433517  0.15746369 0.44563379 0.43605542\n",
            " 0.42637816 0.42479036 0.43042624 0.41866946 0.41615457 0.44666694\n",
            " 0.45433569 0.45183769 0.43437659 0.45216737 0.43542466 0.41935754\n",
            " 0.40631924 0.41152987 0.40518794 0.39303891 0.4139439  0.41266844\n",
            " 0.39779879 0.34231023 0.34231856 0.33093806 0.33171328 0.33774187\n",
            " 0.33925406 0.32642695 0.45326736 0.44941367 0.45574506 0.4502329\n",
            " 0.46220143 0.4608287  0.47686674 0.56875851 0.57209279 0.56761439\n",
            " 0.56430173 0.56369202 0.55575941 0.56025899 0.55949701 0.57404768\n",
            " 0.56659554 0.56118176 0.5635183  0.5600231  0.55001648 0.3049081\n",
            " 0.32812267 0.32065081 0.26555733 0.31600107 0.32438783 0.2756049\n",
            " 0.30788587 0.30377101 0.25823614 0.23074853 0.24624939 0.22722691\n",
            " 0.24594966 0.26050167 0.20841808 0.19407477 0.20330887 0.19536403\n",
            " 0.18493693 0.21117176 0.20738574 0.16208684 0.1637684  0.15894395\n",
            " 0.14880124 0.15959836 0.19368825 0.25193161 0.21495511 0.22209486\n",
            " 0.18726802 0.16464864 0.19295807 0.24330845 0.24210696 0.26223471\n",
            " 0.22973327 0.21190076 0.19787447 0.19024395 0.2657555  0.21076492\n",
            " 0.22673296 0.21225304 0.17366027 0.22730904 0.21840339 0.19616298]\n"
          ]
        },
        {
          "output_type": "stream",
          "name": "stderr",
          "text": [
            "\n"
          ]
        }
      ]
    },
    {
      "cell_type": "markdown",
      "source": [
        "## Base paper ka ACO, 10 features ka subset"
      ],
      "metadata": {
        "id": "pSpFs8Lol5hI"
      }
    },
    {
      "cell_type": "code",
      "source": [
        "tou = []\n",
        "for i in tqdm.tqdm(range(d)):\n",
        "    tou0 = 0\n",
        "    for j in range(l):\n",
        "        tou0 = max(tou0, 1 - spatial.distance.cosine(X_train[:, i], y_train[:, j]))\n",
        "    tou.append(tou0)\n",
        "tou = np.array(tou)\n",
        "tou = (tou - np.min(tou)) / (np.max(tou) - np.min(tou))\n",
        "\n",
        "q0 = 0.7\n",
        "rho = 0.1\n",
        "ants = 25\n",
        "iterations = 40\n",
        "\n",
        "for it in tqdm.tqdm(range(iterations)):\n",
        "    fc = [0] * d\n",
        "    for ant in range(ants):\n",
        "\n",
        "        visited = set()\n",
        "        unvisited = set(range(d))\n",
        "        i = random.sample(list(unvisited), 1)[0]\n",
        "        visited.add(i)\n",
        "        unvisited.remove(i)\n",
        "\n",
        "        while len(visited) < 10:\n",
        "            ni = list(unvisited)\n",
        "            p = []\n",
        "            for j in ni:\n",
        "                p.append(tou[j] * flcorr[j] / fcorr[i][j])\n",
        "            p = np.array(p)\n",
        "            p /= np.sum(p)\n",
        "            q = random.random()\n",
        "            j = -1\n",
        "            if q >= q0:\n",
        "                j = np.random.choice(ni, p = p)\n",
        "            else:\n",
        "                j = ni[np.argmax(p)]\n",
        "            unvisited.remove(j)\n",
        "            visited.add(j)\n",
        "            i = j\n",
        "        for i in visited:\n",
        "            fc[i]+=1\n",
        "\n",
        "    for i in range(d):\n",
        "        tou[i] = (1 - rho) * tou[i] + fc[i] / sum(fc)\n",
        "\n",
        "fs_ind = []\n",
        "for i in range(d):\n",
        "    fs_ind.append([tou[i], i])\n",
        "fs_ind.sort(reverse = True)\n",
        "fs_ind = np.array(fs_ind)\n",
        "fs_ind = fs_ind[:10, 1].astype(int)\n",
        "\n",
        "print(fs_ind)\n",
        "\n",
        "X_train_subset = X_train[:, fs_ind]\n",
        "X_test_subset = X_test[:, fs_ind]\n",
        "\n",
        "print(\"X_train_subset:\", X_train_subset.shape, \"y_train:\", y_train.shape)\n",
        "print(\"X_test_subset:\", X_test_subset.shape, \"y_test:\", y_test.shape)\n",
        "\n",
        "lr = BinaryRelevance(classifier = LogisticRegression())\n",
        "lr.fit(X_train_subset, y_train)\n",
        "\n",
        "lr_train_score = score(y_train, lr.predict(X_train_subset))\n",
        "lr_test_score = score(y_test, lr.predict(X_test_subset))\n",
        "\n",
        "print(\"lr train accu:\", round(lr_train_score, 4))\n",
        "print(\"lr test_accu:\", round(lr_test_score, 4))\n",
        "\n",
        "nb = BinaryRelevance(classifier = GaussianNB())\n",
        "nb.fit(X_train_subset, y_train)\n",
        "\n",
        "nb_train_score = score(y_train, nb.predict(X_train_subset))\n",
        "nb_test_score = score(y_test, nb.predict(X_test_subset))\n",
        "\n",
        "print(\"nb train accu:\", round(nb_train_score, 4))\n",
        "print(\"nb test_accu:\", round(nb_test_score, 4))\n",
        "\n",
        "knn = BinaryRelevance(classifier = KNeighborsClassifier())\n",
        "knn.fit(X_train_subset, y_train)\n",
        "\n",
        "knn_train_score = score(y_train, knn.predict(X_train_subset))\n",
        "knn_test_score = score(y_test, knn.predict(X_test_subset))\n",
        "\n",
        "print(\"knn train accu:\", round(knn_train_score, 4))\n",
        "print(\"knn test_accu:\", round(knn_test_score, 4))\n",
        "\n",
        "avg_train_score = (lr_train_score + nb_train_score + knn_train_score) / 3\n",
        "avg_test_score = (lr_test_score + nb_test_score + knn_test_score) / 3\n",
        "\n",
        "print(\"avg train accu:\", round(avg_train_score, 4))\n",
        "print(\"avg test_accu:\", round(avg_test_score, 4))"
      ],
      "metadata": {
        "colab": {
          "base_uri": "https://localhost:8080/"
        },
        "id": "8A3VDSZf3zYT",
        "outputId": "80d74d5c-9a33-4c9d-d24c-b2e6144d5d90"
      },
      "execution_count": 12,
      "outputs": [
        {
          "output_type": "stream",
          "name": "stderr",
          "text": [
            "100%|██████████| 294/294 [00:00<00:00, 2410.20it/s]\n",
            "100%|██████████| 40/40 [00:04<00:00,  8.48it/s]\n"
          ]
        },
        {
          "output_type": "stream",
          "name": "stdout",
          "text": [
            "[241 239 106 108  84  86 243 103 107 185]\n",
            "X_train_subset: (1444, 10) y_train: (1444, 6)\n",
            "X_test_subset: (963, 10) y_test: (963, 6)\n",
            "lr train accu: 0.2425\n",
            "lr test_accu: 0.2272\n",
            "nb train accu: 0.3811\n",
            "nb test_accu: 0.3702\n",
            "knn train accu: 0.5819\n",
            "knn test_accu: 0.4273\n",
            "avg train accu: 0.4019\n",
            "avg test_accu: 0.3416\n"
          ]
        }
      ]
    },
    {
      "cell_type": "markdown",
      "source": [
        "## Base paper ke ACO ka solution further optimized with random restructure LS with KNN wrapper"
      ],
      "metadata": {
        "id": "u8G97PfrmGJ2"
      }
    },
    {
      "cell_type": "code",
      "source": [
        "tmp = fs_ind[:]"
      ],
      "metadata": {
        "id": "3mqqUhsP5lqM"
      },
      "execution_count": 13,
      "outputs": []
    },
    {
      "cell_type": "code",
      "source": [
        "X_train_subset = X_train[:, fs_ind]\n",
        "\n",
        "knn = BinaryRelevance(classifier = KNeighborsClassifier())\n",
        "knn.fit(X_train_subset, y_train)\n",
        "best_acc = score(y_train, knn.predict(X_train_subset))\n",
        "\n",
        "ants = 40\n",
        "\n",
        "for ant in tqdm.tqdm(range(ants)):\n",
        "\n",
        "    visited = set(random.sample(fs_ind.tolist(), 5))\n",
        "    unvisited = set(range(d)) - visited\n",
        "    i = random.sample(list(visited), 1)[0]\n",
        "\n",
        "    while len(visited) < 10:\n",
        "        ni = list(unvisited)\n",
        "        p = []\n",
        "        for j in ni:\n",
        "            p.append(tou[j] * flcorr[j] / fcorr[i][j])\n",
        "        p = np.array(p)\n",
        "        p /= np.sum(p)\n",
        "        j = ni[np.argmax(p)]\n",
        "        unvisited.remove(j)\n",
        "        visited.add(j)\n",
        "        i = j\n",
        "\n",
        "    ind = np.array(list(visited))\n",
        "    X_train_subset = X_train[:, ind]\n",
        "\n",
        "    knn = BinaryRelevance(classifier = KNeighborsClassifier())\n",
        "    knn.fit(X_train_subset, y_train)\n",
        "    acc = score(y_train, knn.predict(X_train_subset))\n",
        "\n",
        "    if acc > best_acc:\n",
        "        best_acc = acc\n",
        "        fs_ind = ind[:]\n",
        "\n",
        "print(fs_ind)\n",
        "\n",
        "X_train_subset = X_train[:, fs_ind]\n",
        "X_test_subset = X_test[:, fs_ind]\n",
        "\n",
        "print(\"X_train_subset:\", X_train_subset.shape, \"y_train:\", y_train.shape)\n",
        "print(\"X_test_subset:\", X_test_subset.shape, \"y_test:\", y_test.shape)\n",
        "\n",
        "lr = BinaryRelevance(classifier = LogisticRegression())\n",
        "lr.fit(X_train_subset, y_train)\n",
        "\n",
        "lr_train_score = score(y_train, lr.predict(X_train_subset))\n",
        "lr_test_score = score(y_test, lr.predict(X_test_subset))\n",
        "\n",
        "print(\"lr train accu:\", round(lr_train_score, 4))\n",
        "print(\"lr test_accu:\", round(lr_test_score, 4))\n",
        "\n",
        "nb = BinaryRelevance(classifier = GaussianNB())\n",
        "nb.fit(X_train_subset, y_train)\n",
        "\n",
        "nb_train_score = score(y_train, nb.predict(X_train_subset))\n",
        "nb_test_score = score(y_test, nb.predict(X_test_subset))\n",
        "\n",
        "print(\"nb train accu:\", round(nb_train_score, 4))\n",
        "print(\"nb test_accu:\", round(nb_test_score, 4))\n",
        "\n",
        "knn = BinaryRelevance(classifier = KNeighborsClassifier())\n",
        "knn.fit(X_train_subset, y_train)\n",
        "\n",
        "knn_train_score = score(y_train, knn.predict(X_train_subset))\n",
        "knn_test_score = score(y_test, knn.predict(X_test_subset))\n",
        "\n",
        "print(\"knn train accu:\", round(knn_train_score, 4))\n",
        "print(\"knn test_accu:\", round(knn_test_score, 4))\n",
        "\n",
        "avg_train_score = (lr_train_score + nb_train_score + knn_train_score) / 3\n",
        "avg_test_score = (lr_test_score + nb_test_score + knn_test_score) / 3\n",
        "\n",
        "print(\"avg train accu:\", round(avg_train_score, 4))\n",
        "print(\"avg test_accu:\", round(avg_test_score, 4))"
      ],
      "metadata": {
        "colab": {
          "base_uri": "https://localhost:8080/"
        },
        "id": "iUf1-7v_5oz1",
        "outputId": "0e1444d8-3b1b-448d-e635-1df167dccc45"
      },
      "execution_count": 14,
      "outputs": [
        {
          "output_type": "stream",
          "name": "stderr",
          "text": [
            "100%|██████████| 40/40 [00:20<00:00,  1.91it/s]\n"
          ]
        },
        {
          "output_type": "stream",
          "name": "stdout",
          "text": [
            "[106 107 108  47 112 241 239 243  84 216]\n",
            "X_train_subset: (1444, 10) y_train: (1444, 6)\n",
            "X_test_subset: (963, 10) y_test: (963, 6)\n",
            "lr train accu: 0.3401\n",
            "lr test_accu: 0.3072\n",
            "nb train accu: 0.4415\n",
            "nb test_accu: 0.4249\n",
            "knn train accu: 0.6615\n",
            "knn test_accu: 0.5102\n",
            "avg train accu: 0.4811\n",
            "avg test_accu: 0.4141\n"
          ]
        }
      ]
    },
    {
      "cell_type": "markdown",
      "source": [
        "## Base paper ke ACO ka solution further optimized with random restructure LS with KNN + NB + LR wrapper"
      ],
      "metadata": {
        "id": "jwrm4Y1wmVB9"
      }
    },
    {
      "cell_type": "code",
      "source": [
        "fs_ind = tmp[:]"
      ],
      "metadata": {
        "id": "vg-348065vX5"
      },
      "execution_count": 15,
      "outputs": []
    },
    {
      "cell_type": "code",
      "source": [
        "X_train_subset = X_train[:, fs_ind]\n",
        "\n",
        "lr = BinaryRelevance(classifier = LogisticRegression())\n",
        "lr.fit(X_train_subset, y_train)\n",
        "lr_train_score = score(y_train, lr.predict(X_train_subset))\n",
        "\n",
        "nb = BinaryRelevance(classifier = GaussianNB())\n",
        "nb.fit(X_train_subset, y_train)\n",
        "nb_train_score = score(y_train, nb.predict(X_train_subset))\n",
        "\n",
        "knn = BinaryRelevance(classifier = KNeighborsClassifier())\n",
        "knn.fit(X_train_subset, y_train)\n",
        "knn_train_score = score(y_train, knn.predict(X_train_subset))\n",
        "\n",
        "best_acc = (lr_train_score + nb_train_score + knn_train_score) / 3\n",
        "\n",
        "ants = 40\n",
        "\n",
        "for ant in tqdm.tqdm(range(ants)):\n",
        "\n",
        "    visited = set(random.sample(fs_ind.tolist(), 5))\n",
        "    unvisited = set(range(d)) - visited\n",
        "    i = random.sample(list(visited), 1)[0]\n",
        "\n",
        "    while len(visited) < 10:\n",
        "        ni = list(unvisited)\n",
        "        p = []\n",
        "        for j in ni:\n",
        "            p.append(tou[j] * flcorr[j] / fcorr[i][j])\n",
        "        p = np.array(p)\n",
        "        p /= np.sum(p)\n",
        "        j = ni[np.argmax(p)]\n",
        "        unvisited.remove(j)\n",
        "        visited.add(j)\n",
        "        i = j\n",
        "\n",
        "    ind = np.array(list(visited))\n",
        "    X_train_subset = X_train[:, ind]\n",
        "\n",
        "    lr = BinaryRelevance(classifier = LogisticRegression())\n",
        "    lr.fit(X_train_subset, y_train)\n",
        "    lr_train_score = score(y_train, lr.predict(X_train_subset))\n",
        "\n",
        "    nb = BinaryRelevance(classifier = GaussianNB())\n",
        "    nb.fit(X_train_subset, y_train)\n",
        "    nb_train_score = score(y_train, nb.predict(X_train_subset))\n",
        "\n",
        "    knn = BinaryRelevance(classifier = KNeighborsClassifier())\n",
        "    knn.fit(X_train_subset, y_train)\n",
        "    knn_train_score = score(y_train, knn.predict(X_train_subset))\n",
        "\n",
        "    acc = (lr_train_score + nb_train_score + knn_train_score) / 3\n",
        "\n",
        "    if acc > best_acc:\n",
        "        best_acc = acc\n",
        "        fs_ind = ind[:]\n",
        "\n",
        "print(fs_ind)\n",
        "\n",
        "X_train_subset = X_train[:, fs_ind]\n",
        "X_test_subset = X_test[:, fs_ind]\n",
        "\n",
        "print(\"X_train_subset:\", X_train_subset.shape, \"y_train:\", y_train.shape)\n",
        "print(\"X_test_subset:\", X_test_subset.shape, \"y_test:\", y_test.shape)\n",
        "\n",
        "lr = BinaryRelevance(classifier = LogisticRegression())\n",
        "lr.fit(X_train_subset, y_train)\n",
        "\n",
        "lr_train_score = score(y_train, lr.predict(X_train_subset))\n",
        "lr_test_score = score(y_test, lr.predict(X_test_subset))\n",
        "\n",
        "print(\"lr train accu:\", round(lr_train_score, 4))\n",
        "print(\"lr test_accu:\", round(lr_test_score, 4))\n",
        "\n",
        "nb = BinaryRelevance(classifier = GaussianNB())\n",
        "nb.fit(X_train_subset, y_train)\n",
        "\n",
        "nb_train_score = score(y_train, nb.predict(X_train_subset))\n",
        "nb_test_score = score(y_test, nb.predict(X_test_subset))\n",
        "\n",
        "print(\"nb train accu:\", round(nb_train_score, 4))\n",
        "print(\"nb test_accu:\", round(nb_test_score, 4))\n",
        "\n",
        "knn = BinaryRelevance(classifier = KNeighborsClassifier())\n",
        "knn.fit(X_train_subset, y_train)\n",
        "\n",
        "knn_train_score = score(y_train, knn.predict(X_train_subset))\n",
        "knn_test_score = score(y_test, knn.predict(X_test_subset))\n",
        "\n",
        "print(\"knn train accu:\", round(knn_train_score, 4))\n",
        "print(\"knn test_accu:\", round(knn_test_score, 4))\n",
        "\n",
        "avg_train_score = (lr_train_score + nb_train_score + knn_train_score) / 3\n",
        "avg_test_score = (lr_test_score + nb_test_score + knn_test_score) / 3\n",
        "\n",
        "print(\"avg train accu:\", round(avg_train_score, 4))\n",
        "print(\"avg test_accu:\", round(avg_test_score, 4))"
      ],
      "metadata": {
        "id": "UNwOE1Uv1R2u",
        "colab": {
          "base_uri": "https://localhost:8080/"
        },
        "outputId": "e6417885-bd73-45c8-c643-da8479a938c4"
      },
      "execution_count": 16,
      "outputs": [
        {
          "output_type": "stream",
          "name": "stderr",
          "text": [
            "100%|██████████| 40/40 [00:28<00:00,  1.41it/s]\n"
          ]
        },
        {
          "output_type": "stream",
          "name": "stdout",
          "text": [
            "[ 75 108  46 239  47 146  84  86 216 286]\n",
            "X_train_subset: (1444, 10) y_train: (1444, 6)\n",
            "X_test_subset: (963, 10) y_test: (963, 6)\n",
            "lr train accu: 0.366\n",
            "lr test_accu: 0.3191\n",
            "nb train accu: 0.529\n",
            "nb test_accu: 0.4826\n",
            "knn train accu: 0.6377\n",
            "knn test_accu: 0.4834\n",
            "avg train accu: 0.5109\n",
            "avg test_accu: 0.4284\n"
          ]
        }
      ]
    }
  ]
}