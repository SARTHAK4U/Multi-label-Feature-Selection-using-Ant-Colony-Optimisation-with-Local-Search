{
  "cells": [
    {
      "cell_type": "code",
      "execution_count": 18,
      "metadata": {
        "id": "GGgFcuFsGDde"
      },
      "outputs": [],
      "source": [
        "from warnings import filterwarnings\n",
        "filterwarnings('ignore')"
      ]
    },
    {
      "cell_type": "code",
      "execution_count": 19,
      "metadata": {
        "id": "qendvlV-gO_P"
      },
      "outputs": [],
      "source": [
        "import tqdm\n",
        "import time\n",
        "import random\n",
        "import numpy as np\n",
        "from scipy import spatial\n",
        "from scipy.stats import pearsonr\n",
        "from skmultilearn.dataset import load_from_arff\n",
        "\n",
        "from sklearn.linear_model import LogisticRegression\n",
        "from sklearn.neighbors import KNeighborsClassifier\n",
        "from sklearn.naive_bayes import GaussianNB\n",
        "from skmultilearn.problem_transform import BinaryRelevance"
      ]
    },
    {
      "cell_type": "code",
      "execution_count": 20,
      "metadata": {
        "colab": {
          "base_uri": "https://localhost:8080/"
        },
        "id": "N2L17HNy_uqu",
        "outputId": "ca469ff2-61c3-4bf7-e06f-f9faa4dfb8d7"
      },
      "outputs": [
        {
          "name": "stdout",
          "output_type": "stream",
          "text": [
            "(2000, 294) (2000, 5)\n"
          ]
        }
      ],
      "source": [
        "X, y = load_from_arff(\"Image.arff\", label_count = 5)\n",
        "X = X.toarray()\n",
        "y = y.toarray()\n",
        "\n",
        "index = np.arange(len(X))\n",
        "np.random.shuffle(index)\n",
        "X, y = X[index], y[index]\n",
        "\n",
        "print(X.shape, y.shape)"
      ]
    },
    {
      "cell_type": "code",
      "execution_count": 21,
      "metadata": {
        "colab": {
          "base_uri": "https://localhost:8080/"
        },
        "id": "uGnwMK0qc2MU",
        "outputId": "f54435be-3b4d-44c6-a9b1-1b5ce9736a44"
      },
      "outputs": [
        {
          "name": "stdout",
          "output_type": "stream",
          "text": [
            "[[4.31313e-01 1.50050e-02 4.46017e-01 ... 7.02000e-04 7.00200e-03\n",
            "  2.41000e-04]\n",
            " [6.63477e-01 1.26127e-01 3.58374e-01 ... 7.33730e-02 3.48700e-02\n",
            "  3.71200e-02]\n",
            " [3.69259e-01 6.10000e-05 3.66326e-01 ... 5.95290e-02 3.39900e-02\n",
            "  1.13380e-02]\n",
            " ...\n",
            " [4.49200e-01 2.74000e-03 4.56098e-01 ... 1.45110e-02 3.95250e-02\n",
            "  7.22840e-02]\n",
            " [5.24545e-01 1.58420e-02 5.23251e-01 ... 2.05401e-01 4.34746e-01\n",
            "  2.32819e-01]\n",
            " [3.83019e-01 7.30000e-04 3.79321e-01 ... 1.47600e-03 2.52030e-02\n",
            "  8.32000e-04]]\n",
            "[[0 0 1 0 0]\n",
            " [0 1 0 0 1]\n",
            " [0 1 0 0 0]\n",
            " ...\n",
            " [0 1 0 0 1]\n",
            " [1 0 0 0 0]\n",
            " [0 0 1 0 0]]\n"
          ]
        }
      ],
      "source": [
        "print(X)\n",
        "print(y)"
      ]
    },
    {
      "cell_type": "code",
      "execution_count": 22,
      "metadata": {
        "colab": {
          "base_uri": "https://localhost:8080/"
        },
        "id": "QzvjKRbXiltG",
        "outputId": "f4735188-71ea-44c9-a137-5552abff030e"
      },
      "outputs": [
        {
          "name": "stdout",
          "output_type": "stream",
          "text": [
            "X_train: (1200, 294) y_train: (1200, 5)\n",
            "X_test: (800, 294) y_test: (800, 5)\n"
          ]
        }
      ],
      "source": [
        "train_samples = int(X.shape[0] * 0.6)\n",
        "\n",
        "X_train = X[:train_samples, :]\n",
        "y_train = y[:train_samples]\n",
        "X_test = X[train_samples:, :]\n",
        "y_test = y[train_samples:]\n",
        "\n",
        "print(\"X_train:\", X_train.shape, \"y_train:\", y_train.shape)\n",
        "print(\"X_test:\", X_test.shape, \"y_test:\", y_test.shape)"
      ]
    },
    {
      "cell_type": "code",
      "execution_count": 23,
      "metadata": {
        "colab": {
          "base_uri": "https://localhost:8080/"
        },
        "id": "TtqDGhDDvixu",
        "outputId": "7c683b0b-1ac0-476d-d9bf-03b291363ce7"
      },
      "outputs": [
        {
          "name": "stdout",
          "output_type": "stream",
          "text": [
            "d: 294 l: 5\n"
          ]
        }
      ],
      "source": [
        "d = X_train.shape[1] \n",
        "l = y_train.shape[1]\n",
        "print(\"d:\", d, \"l:\", l)"
      ]
    },
    {
      "cell_type": "code",
      "execution_count": 24,
      "metadata": {
        "id": "ZmZYxXp7mGFD"
      },
      "outputs": [],
      "source": [
        "def score(y, pred):\n",
        "    pred = pred.toarray()\n",
        "    score = 0\n",
        "    for i in range(y.shape[0]):\n",
        "        score += np.sum(y[i] * pred[i]) / (np.sum(y[i]) + np.sum(pred[i]) - np.sum(y[i] * pred[i]))\n",
        "    score /= y.shape[0]\n",
        "    return score"
      ]
    },
    {
      "cell_type": "markdown",
      "metadata": {
        "id": "O7Hj_aWclvxl"
      },
      "source": [
        "## Without FS, taking the whole dataset"
      ]
    },
    {
      "cell_type": "code",
      "execution_count": 25,
      "metadata": {
        "colab": {
          "base_uri": "https://localhost:8080/"
        },
        "id": "ritvyL6DZuef",
        "outputId": "704fd9f8-778d-4001-b492-efc392fc095e"
      },
      "outputs": [
        {
          "name": "stdout",
          "output_type": "stream",
          "text": [
            "X_train_subset: (1200, 294) y_train: (1200, 5)\n",
            "X_test_subset: (800, 294) y_test: (800, 5)\n",
            "lr train accu: 0.5369\n",
            "lr test_accu: 0.4694\n",
            "nb train accu: 0.3634\n",
            "nb test_accu: 0.3548\n",
            "knn train accu: 0.619\n",
            "knn test_accu: 0.5025\n",
            "avg train accu: 0.5065\n",
            "avg test_accu: 0.4422\n"
          ]
        }
      ],
      "source": [
        "X_train_subset = X_train[:, :]\n",
        "X_test_subset = X_test[:, :]\n",
        "\n",
        "print(\"X_train_subset:\", X_train_subset.shape, \"y_train:\", y_train.shape)\n",
        "print(\"X_test_subset:\", X_test_subset.shape, \"y_test:\", y_test.shape)\n",
        "\n",
        "lr = BinaryRelevance(classifier = LogisticRegression())\n",
        "lr.fit(X_train_subset, y_train)\n",
        "\n",
        "lr_train_score = score(y_train, lr.predict(X_train_subset))\n",
        "lr_test_score = score(y_test, lr.predict(X_test_subset))\n",
        "\n",
        "print(\"lr train accu:\", round(lr_train_score, 4))\n",
        "print(\"lr test_accu:\", round(lr_test_score, 4))\n",
        "\n",
        "nb = BinaryRelevance(classifier = GaussianNB())\n",
        "nb.fit(X_train_subset, y_train)\n",
        "\n",
        "nb_train_score = score(y_train, nb.predict(X_train_subset))\n",
        "nb_test_score = score(y_test, nb.predict(X_test_subset))\n",
        "\n",
        "print(\"nb train accu:\", round(nb_train_score, 4))\n",
        "print(\"nb test_accu:\", round(nb_test_score, 4))\n",
        "\n",
        "knn = BinaryRelevance(classifier = KNeighborsClassifier())\n",
        "knn.fit(X_train_subset, y_train)\n",
        "\n",
        "knn_train_score = score(y_train, knn.predict(X_train_subset))\n",
        "knn_test_score = score(y_test, knn.predict(X_test_subset))\n",
        "\n",
        "print(\"knn train accu:\", round(knn_train_score, 4))\n",
        "print(\"knn test_accu:\", round(knn_test_score, 4))\n",
        "\n",
        "avg_train_score = (lr_train_score + nb_train_score + knn_train_score) / 3\n",
        "avg_test_score = (lr_test_score + nb_test_score + knn_test_score) / 3\n",
        "\n",
        "print(\"avg train accu:\", round(avg_train_score, 4))\n",
        "print(\"avg test_accu:\", round(avg_test_score, 4))"
      ]
    },
    {
      "cell_type": "code",
      "execution_count": 26,
      "metadata": {
        "colab": {
          "base_uri": "https://localhost:8080/"
        },
        "id": "8v9TphKArTEd",
        "outputId": "159637ab-b7f6-4362-8124-f1643fb44c86"
      },
      "outputs": [
        {
          "name": "stdout",
          "output_type": "stream",
          "text": [
            "(294, 294)\n",
            "[[1.         0.22891059 0.95314891 ... 0.11398277 0.18863438 0.11820044]\n",
            " [0.22891059 1.         0.30307195 ... 0.02696605 0.08730909 0.04609204]\n",
            " [0.95314891 0.30307195 1.         ... 0.12484053 0.20397726 0.12536069]\n",
            " ...\n",
            " [0.11398277 0.02696605 0.12484053 ... 1.         0.39400124 0.80938837]\n",
            " [0.18863438 0.08730909 0.20397726 ... 0.39400124 1.         0.41953227]\n",
            " [0.11820044 0.04609204 0.12536069 ... 0.80938837 0.41953227 1.        ]]\n"
          ]
        }
      ],
      "source": [
        "beg = time.time()\n",
        "fcorr = np.corrcoef(X_train.T)\n",
        "end = time.time()\n",
        "fcorr = np.absolute(fcorr)\n",
        "print(fcorr.shape)\n",
        "print(fcorr)"
      ]
    },
    {
      "cell_type": "code",
      "execution_count": 27,
      "metadata": {
        "colab": {
          "base_uri": "https://localhost:8080/"
        },
        "id": "27xui0T814rE",
        "outputId": "86e817c1-b105-41ce-e313-e8c4ed9db03c"
      },
      "outputs": [
        {
          "name": "stderr",
          "output_type": "stream",
          "text": [
            "100%|██████████| 294/294 [00:00<00:00, 1772.10it/s]"
          ]
        },
        {
          "name": "stdout",
          "output_type": "stream",
          "text": [
            "(294,)\n",
            "[0.47703882 0.0939037  0.49292623 0.10317575 0.50034056 0.12145456\n",
            " 0.48946087 0.09404729 0.4985689  0.08868053 0.49701336 0.08640842\n",
            " 0.48042703 0.08070738 0.51282126 0.12322825 0.51550533 0.12423064\n",
            " 0.49839703 0.12948849 0.49252793 0.14891923 0.50157757 0.1719923\n",
            " 0.50870536 0.11245849 0.49921652 0.09010143 0.49942004 0.10337162\n",
            " 0.49939671 0.16143983 0.49323035 0.19382865 0.49333024 0.19917648\n",
            " 0.49704112 0.17343188 0.50617479 0.12320216 0.49665435 0.09829377\n",
            " 0.46315408 0.18292615 0.45534031 0.19998417 0.45079731 0.23019689\n",
            " 0.47817078 0.28650122 0.47832467 0.23539103 0.47151    0.18645821\n",
            " 0.46909967 0.18409831 0.38937433 0.25510671 0.40736215 0.23609585\n",
            " 0.41703716 0.28653355 0.41799597 0.25352365 0.41876493 0.23089895\n",
            " 0.41364471 0.21094751 0.39696926 0.20735679 0.27485245 0.27294937\n",
            " 0.31785502 0.28987158 0.34910163 0.27691071 0.3473091  0.25500481\n",
            " 0.32949507 0.26250502 0.30168887 0.2697432  0.25554844 0.22733422\n",
            " 0.27648922 0.23742009 0.27036489 0.2510751  0.26680843 0.26912512\n",
            " 0.25609199 0.27364681 0.24606598 0.25400535 0.25115556 0.23878508\n",
            " 0.24752151 0.23923992 0.21285635 0.05070424 0.21393283 0.0210422\n",
            " 0.23484011 0.0339643  0.2332181  0.03963775 0.22444257 0.04074721\n",
            " 0.22232298 0.05901059 0.21291721 0.04355026 0.20865633 0.01315821\n",
            " 0.24393122 0.05480391 0.26246159 0.07299879 0.26453877 0.07948742\n",
            " 0.25140387 0.07063961 0.2467591  0.07961875 0.21637918 0.03594635\n",
            " 0.2013758  0.05936402 0.23433652 0.09043709 0.25047236 0.05995429\n",
            " 0.26638244 0.06432818 0.2550156  0.06232358 0.25050918 0.11039505\n",
            " 0.2280617  0.11342685 0.20119651 0.06343187 0.20293687 0.06310976\n",
            " 0.23021694 0.06974792 0.27875121 0.04386712 0.26528539 0.0896906\n",
            " 0.23971149 0.14290326 0.20967687 0.12016078 0.24812279 0.15193288\n",
            " 0.27387904 0.10976483 0.23248604 0.11680427 0.23158358 0.10124495\n",
            " 0.23348353 0.08523207 0.20937935 0.10076263 0.20304401 0.10408116\n",
            " 0.2277639  0.21724435 0.25261085 0.20281973 0.22971632 0.17575872\n",
            " 0.2201771  0.15874601 0.22510066 0.17519345 0.20999358 0.18351886\n",
            " 0.20503013 0.18070069 0.23783161 0.2253621  0.21257831 0.20283854\n",
            " 0.19998753 0.21329692 0.20077817 0.20726186 0.19000478 0.19628221\n",
            " 0.18492242 0.18847751 0.19719872 0.22181132 0.0737751  0.29463548\n",
            " 0.09765299 0.30038614 0.0905574  0.26581457 0.0707137  0.27144811\n",
            " 0.08969425 0.28739109 0.08628998 0.29100122 0.07216707 0.27643556\n",
            " 0.09426597 0.2108307  0.14066663 0.20636267 0.1424742  0.16659592\n",
            " 0.13227689 0.17390815 0.14119213 0.16359101 0.11980529 0.18887447\n",
            " 0.09305274 0.21213323 0.12776682 0.20852286 0.1414932  0.17039638\n",
            " 0.13344718 0.15788256 0.13206617 0.11421663 0.13854625 0.13395913\n",
            " 0.11445621 0.18330151 0.09581102 0.18592372 0.12920501 0.16785786\n",
            " 0.14752338 0.15084867 0.11651169 0.1160471  0.12433716 0.08125171\n",
            " 0.13050026 0.12603986 0.10945512 0.15193697 0.12902189 0.16303091\n",
            " 0.1731975  0.18288823 0.16974737 0.15672817 0.17673247 0.12539155\n",
            " 0.13884363 0.08658138 0.1638554  0.10369193 0.19749935 0.12092359\n",
            " 0.19732131 0.13207963 0.2265688  0.16975483 0.20547308 0.15928904\n",
            " 0.19105719 0.15104468 0.15829655 0.0936331  0.17855328 0.09163578\n",
            " 0.19840316 0.13149652 0.20885817 0.14919214 0.25222778 0.17879765\n",
            " 0.25093118 0.16716517 0.24838338 0.15913471 0.22533699 0.12456524\n",
            " 0.22645693 0.15338517 0.22528206 0.16372883 0.21671167 0.15168643]\n"
          ]
        },
        {
          "name": "stderr",
          "output_type": "stream",
          "text": [
            "\n"
          ]
        }
      ],
      "source": [
        "#his one varies between -1 and +1 with 0 implying no correlation. Correlations of -1 or +1 imply an exact linear relationship.\n",
        "#  Positive correlations imply that as x increases, so does y. Negative correlations imply that as x increases, y decreases.\n",
        "\n",
        "flcorr = np.zeros((d, l))\n",
        "for i in tqdm.tqdm(range(d)):\n",
        "    for j in range(l):\n",
        "        flcorr[i][j] = pearsonr(X_train[:, i], y_train[:, j])[0] + 0.001\n",
        "flcorr = np.absolute(flcorr)\n",
        "flcorr = np.max(flcorr, axis = 1)\n",
        "print(flcorr.shape)\n",
        "print(flcorr)"
      ]
    },
    {
      "cell_type": "markdown",
      "metadata": {
        "id": "pSpFs8Lol5hI"
      },
      "source": [
        "## Base paper ka ACO, 10 features ka subset"
      ]
    },
    {
      "cell_type": "code",
      "execution_count": 28,
      "metadata": {
        "colab": {
          "base_uri": "https://localhost:8080/"
        },
        "id": "8A3VDSZf3zYT",
        "outputId": "6df71458-82c3-4702-f82c-cdb26c9b1a3b"
      },
      "outputs": [
        {
          "name": "stderr",
          "output_type": "stream",
          "text": [
            "100%|██████████| 294/294 [00:00<00:00, 2788.43it/s]\n",
            "100%|██████████| 40/40 [00:02<00:00, 14.15it/s]\n"
          ]
        },
        {
          "name": "stdout",
          "output_type": "stream",
          "text": [
            "[188  28 206  14 190  44 186   2 228 237]\n",
            "X_train_subset: (1200, 10) y_train: (1200, 5)\n",
            "X_test_subset: (800, 10) y_test: (800, 5)\n",
            "lr train accu: 0.1064\n",
            "lr test_accu: 0.1223\n",
            "nb train accu: 0.3752\n",
            "nb test_accu: 0.3697\n",
            "knn train accu: 0.5175\n",
            "knn test_accu: 0.3863\n",
            "avg train accu: 0.333\n",
            "avg test_accu: 0.2927\n"
          ]
        }
      ],
      "source": [
        "tou = []\n",
        "for i in tqdm.tqdm(range(d)):\n",
        "    tou0 = 0\n",
        "    for j in range(l):\n",
        "        tou0 = max(tou0, 1 - spatial.distance.cosine(X_train[:, i], y_train[:, j]))\n",
        "    tou.append(tou0)\n",
        "tou = np.array(tou)\n",
        "tou = (tou - np.min(tou)) / (np.max(tou) - np.min(tou)) #min max normalisation\n",
        "\n",
        "q0 = 0.7\n",
        "rho = 0.1\n",
        "ants = 25\n",
        "iterations = 40\n",
        "\n",
        "for it in tqdm.tqdm(range(iterations)):\n",
        "    fc = [0] * d\n",
        "    for ant in range(ants):\n",
        "\n",
        "        visited = set()\n",
        "        unvisited = set(range(d))\n",
        "        i = random.sample(list(unvisited), 1)[0]\n",
        "        visited.add(i)\n",
        "        unvisited.remove(i)\n",
        "\n",
        "        while len(visited) < 10:\n",
        "            ni = list(unvisited)\n",
        "            p = []\n",
        "            for j in ni:\n",
        "                p.append(tou[j] * flcorr[j] / fcorr[i][j])\n",
        "            p = np.array(p)\n",
        "            p /= np.sum(p)\n",
        "            q = random.random()\n",
        "            j = -1\n",
        "\n",
        "            if q >= q0:\n",
        "                j = np.random.choice(ni, p = p)   #The probabilities associated with each entry in a. If not given, the sample assumes a uniform distribution over all entries in a.\n",
        "            else:\n",
        "                j = ni[np.argmax(p)]  #Returns the indices of the maximum values along an axis.\n",
        "\n",
        "            unvisited.remove(j)\n",
        "            visited.add(j)\n",
        "            i = j\n",
        "\n",
        "\n",
        "        for i in visited:\n",
        "            fc[i]+=1\n",
        "\n",
        "#global update\n",
        "    for i in range(d):\n",
        "        tou[i] = (1 - rho) * tou[i] + fc[i] / sum(fc)\n",
        "\n",
        "fs_ind = []\n",
        "for i in range(d):\n",
        "    fs_ind.append([tou[i], i])\n",
        "fs_ind.sort(reverse = True)\n",
        "fs_ind = np.array(fs_ind)\n",
        "fs_ind = fs_ind[:10, 1].astype(int)\n",
        "\n",
        "print(fs_ind)\n",
        "\n",
        "X_train_subset = X_train[:, fs_ind]\n",
        "X_test_subset = X_test[:, fs_ind]\n",
        "\n",
        "print(\"X_train_subset:\", X_train_subset.shape, \"y_train:\", y_train.shape)\n",
        "print(\"X_test_subset:\", X_test_subset.shape, \"y_test:\", y_test.shape)\n",
        "\n",
        "lr = BinaryRelevance(classifier = LogisticRegression())\n",
        "lr.fit(X_train_subset, y_train)\n",
        "\n",
        "lr_train_score = score(y_train, lr.predict(X_train_subset))\n",
        "lr_test_score = score(y_test, lr.predict(X_test_subset))\n",
        "\n",
        "print(\"lr train accu:\", round(lr_train_score, 4))\n",
        "print(\"lr test_accu:\", round(lr_test_score, 4))\n",
        "\n",
        "nb = BinaryRelevance(classifier = GaussianNB())\n",
        "nb.fit(X_train_subset, y_train)\n",
        "\n",
        "nb_train_score = score(y_train, nb.predict(X_train_subset))\n",
        "nb_test_score = score(y_test, nb.predict(X_test_subset))\n",
        "\n",
        "print(\"nb train accu:\", round(nb_train_score, 4))\n",
        "print(\"nb test_accu:\", round(nb_test_score, 4))\n",
        "\n",
        "knn = BinaryRelevance(classifier = KNeighborsClassifier())\n",
        "knn.fit(X_train_subset, y_train)\n",
        "\n",
        "knn_train_score = score(y_train, knn.predict(X_train_subset))\n",
        "knn_test_score = score(y_test, knn.predict(X_test_subset))\n",
        "\n",
        "print(\"knn train accu:\", round(knn_train_score, 4))\n",
        "print(\"knn test_accu:\", round(knn_test_score, 4))\n",
        "\n",
        "avg_train_score = (lr_train_score + nb_train_score + knn_train_score) / 3\n",
        "avg_test_score = (lr_test_score + nb_test_score + knn_test_score) / 3\n",
        "\n",
        "print(\"avg train accu:\", round(avg_train_score, 4))\n",
        "print(\"avg test_accu:\", round(avg_test_score, 4))"
      ]
    },
    {
      "cell_type": "markdown",
      "metadata": {
        "id": "u8G97PfrmGJ2"
      },
      "source": [
        "## Base paper ke ACO ka solution further optimized with random restructure LS with KNN wrapper"
      ]
    },
    {
      "cell_type": "code",
      "execution_count": 29,
      "metadata": {
        "id": "3mqqUhsP5lqM"
      },
      "outputs": [],
      "source": [
        "tmp = fs_ind[:]"
      ]
    },
    {
      "cell_type": "code",
      "execution_count": 30,
      "metadata": {
        "colab": {
          "base_uri": "https://localhost:8080/"
        },
        "id": "iUf1-7v_5oz1",
        "outputId": "a23f667b-6d9a-44ee-9559-07364515ec58"
      },
      "outputs": [
        {
          "name": "stderr",
          "output_type": "stream",
          "text": [
            "100%|██████████| 40/40 [00:12<00:00,  3.27it/s]\n"
          ]
        },
        {
          "name": "stdout",
          "output_type": "stream",
          "text": [
            "[  2 199  44  14  48 188  52 216  28 190]\n",
            "X_train_subset: (1200, 10) y_train: (1200, 5)\n",
            "X_test_subset: (800, 10) y_test: (800, 5)\n",
            "lr train accu: 0.1444\n",
            "lr test_accu: 0.1565\n",
            "nb train accu: 0.3947\n",
            "nb test_accu: 0.3775\n",
            "knn train accu: 0.5685\n",
            "knn test_accu: 0.4194\n",
            "avg train accu: 0.3692\n",
            "avg test_accu: 0.3178\n"
          ]
        }
      ],
      "source": [
        "X_train_subset = X_train[:, fs_ind]\n",
        "\n",
        "knn = BinaryRelevance(classifier = KNeighborsClassifier())\n",
        "knn.fit(X_train_subset, y_train)\n",
        "best_acc = score(y_train, knn.predict(X_train_subset))\n",
        "\n",
        "ants = 40\n",
        "\n",
        "for ant in tqdm.tqdm(range(ants)):\n",
        "\n",
        "    visited = set(random.sample(fs_ind.tolist(), 5))\n",
        "    unvisited = set(range(d)) - visited\n",
        "    i = random.sample(list(visited), 1)[0]\n",
        "\n",
        "    while len(visited) < 10:\n",
        "        ni = list(unvisited)\n",
        "        p = []\n",
        "        for j in ni:\n",
        "            p.append(tou[j] * flcorr[j] / fcorr[i][j])\n",
        "        p = np.array(p)\n",
        "        p /= np.sum(p)\n",
        "        j = ni[np.argmax(p)]\n",
        "        unvisited.remove(j)\n",
        "        visited.add(j)\n",
        "        i = j\n",
        "\n",
        "    ind = np.array(list(visited))\n",
        "    X_train_subset = X_train[:, ind]\n",
        "\n",
        "    knn = BinaryRelevance(classifier = KNeighborsClassifier())\n",
        "    knn.fit(X_train_subset, y_train)\n",
        "    acc = score(y_train, knn.predict(X_train_subset))\n",
        "\n",
        "    if acc > best_acc:\n",
        "        best_acc = acc\n",
        "        fs_ind = ind[:]\n",
        "\n",
        "print(fs_ind)\n",
        "\n",
        "X_train_subset = X_train[:, fs_ind]\n",
        "X_test_subset = X_test[:, fs_ind]\n",
        "\n",
        "print(\"X_train_subset:\", X_train_subset.shape, \"y_train:\", y_train.shape)\n",
        "print(\"X_test_subset:\", X_test_subset.shape, \"y_test:\", y_test.shape)\n",
        "\n",
        "lr = BinaryRelevance(classifier = LogisticRegression())\n",
        "lr.fit(X_train_subset, y_train)\n",
        "\n",
        "lr_train_score = score(y_train, lr.predict(X_train_subset))\n",
        "lr_test_score = score(y_test, lr.predict(X_test_subset))\n",
        "\n",
        "print(\"lr train accu:\", round(lr_train_score, 4))\n",
        "print(\"lr test_accu:\", round(lr_test_score, 4))\n",
        "\n",
        "nb = BinaryRelevance(classifier = GaussianNB())\n",
        "nb.fit(X_train_subset, y_train)\n",
        "\n",
        "nb_train_score = score(y_train, nb.predict(X_train_subset))\n",
        "nb_test_score = score(y_test, nb.predict(X_test_subset))\n",
        "\n",
        "print(\"nb train accu:\", round(nb_train_score, 4))\n",
        "print(\"nb test_accu:\", round(nb_test_score, 4))\n",
        "\n",
        "knn = BinaryRelevance(classifier = KNeighborsClassifier())\n",
        "knn.fit(X_train_subset, y_train)\n",
        "\n",
        "knn_train_score = score(y_train, knn.predict(X_train_subset))\n",
        "knn_test_score = score(y_test, knn.predict(X_test_subset))\n",
        "\n",
        "print(\"knn train accu:\", round(knn_train_score, 4))\n",
        "print(\"knn test_accu:\", round(knn_test_score, 4))\n",
        "\n",
        "avg_train_score = (lr_train_score + nb_train_score + knn_train_score) / 3\n",
        "avg_test_score = (lr_test_score + nb_test_score + knn_test_score) / 3\n",
        "\n",
        "print(\"avg train accu:\", round(avg_train_score, 4))\n",
        "print(\"avg test_accu:\", round(avg_test_score, 4))"
      ]
    },
    {
      "cell_type": "markdown",
      "metadata": {
        "id": "jwrm4Y1wmVB9"
      },
      "source": [
        "## Base paper ke ACO ka solution further optimized with random restructure LS with KNN + NB + LR wrapper"
      ]
    },
    {
      "cell_type": "code",
      "execution_count": 31,
      "metadata": {
        "id": "vg-348065vX5"
      },
      "outputs": [],
      "source": [
        "fs_ind = tmp[:]"
      ]
    },
    {
      "cell_type": "code",
      "execution_count": 32,
      "metadata": {
        "colab": {
          "base_uri": "https://localhost:8080/"
        },
        "id": "UNwOE1Uv1R2u",
        "outputId": "2606b2ca-1bf8-449f-df14-dccabe12c401"
      },
      "outputs": [
        {
          "name": "stderr",
          "output_type": "stream",
          "text": [
            "100%|██████████| 40/40 [00:21<00:00,  1.87it/s]\n"
          ]
        },
        {
          "name": "stdout",
          "output_type": "stream",
          "text": [
            "[ 64 258 199  72 218  14  60 248 186  28]\n",
            "X_train_subset: (1200, 10) y_train: (1200, 5)\n",
            "X_test_subset: (800, 10) y_test: (800, 5)\n",
            "lr train accu: 0.1472\n",
            "lr test_accu: 0.1665\n",
            "nb train accu: 0.4106\n",
            "nb test_accu: 0.4141\n",
            "knn train accu: 0.5604\n",
            "knn test_accu: 0.4281\n",
            "avg train accu: 0.3727\n",
            "avg test_accu: 0.3362\n"
          ]
        }
      ],
      "source": [
        "X_train_subset = X_train[:, fs_ind]\n",
        "\n",
        "lr = BinaryRelevance(classifier = LogisticRegression())\n",
        "lr.fit(X_train_subset, y_train)\n",
        "lr_train_score = score(y_train, lr.predict(X_train_subset))\n",
        "\n",
        "nb = BinaryRelevance(classifier = GaussianNB())\n",
        "nb.fit(X_train_subset, y_train)\n",
        "nb_train_score = score(y_train, nb.predict(X_train_subset))\n",
        "\n",
        "knn = BinaryRelevance(classifier = KNeighborsClassifier())\n",
        "knn.fit(X_train_subset, y_train)\n",
        "knn_train_score = score(y_train, knn.predict(X_train_subset))\n",
        "\n",
        "best_acc = (lr_train_score + nb_train_score + knn_train_score) / 3\n",
        "\n",
        "ants = 40\n",
        "\n",
        "for ant in tqdm.tqdm(range(ants)):\n",
        "\n",
        "    visited = set(random.sample(fs_ind.tolist(), 5))\n",
        "    unvisited = set(range(d)) - visited\n",
        "    i = random.sample(list(visited), 1)[0]\n",
        "\n",
        "    while len(visited) < 10:\n",
        "        ni = list(unvisited)\n",
        "        p = []\n",
        "        for j in ni:\n",
        "            p.append(tou[j] * flcorr[j] / fcorr[i][j])\n",
        "        p = np.array(p)\n",
        "        p /= np.sum(p)\n",
        "        j = ni[np.argmax(p)]\n",
        "        unvisited.remove(j)\n",
        "        visited.add(j)\n",
        "        i = j\n",
        "\n",
        "    ind = np.array(list(visited))\n",
        "    X_train_subset = X_train[:, ind]\n",
        "\n",
        "    lr = BinaryRelevance(classifier = LogisticRegression())\n",
        "    lr.fit(X_train_subset, y_train)\n",
        "    lr_train_score = score(y_train, lr.predict(X_train_subset))\n",
        "\n",
        "    nb = BinaryRelevance(classifier = GaussianNB())\n",
        "    nb.fit(X_train_subset, y_train)\n",
        "    nb_train_score = score(y_train, nb.predict(X_train_subset))\n",
        "\n",
        "    knn = BinaryRelevance(classifier = KNeighborsClassifier())\n",
        "    knn.fit(X_train_subset, y_train)\n",
        "    knn_train_score = score(y_train, knn.predict(X_train_subset))\n",
        "\n",
        "    acc = (lr_train_score + nb_train_score + knn_train_score) / 3\n",
        "\n",
        "    if acc > best_acc:\n",
        "        best_acc = acc\n",
        "        fs_ind = ind[:]\n",
        "\n",
        "print(fs_ind)\n",
        "\n",
        "X_train_subset = X_train[:, fs_ind]\n",
        "X_test_subset = X_test[:, fs_ind]\n",
        "\n",
        "print(\"X_train_subset:\", X_train_subset.shape, \"y_train:\", y_train.shape)\n",
        "print(\"X_test_subset:\", X_test_subset.shape, \"y_test:\", y_test.shape)\n",
        "\n",
        "lr = BinaryRelevance(classifier = LogisticRegression())\n",
        "lr.fit(X_train_subset, y_train)\n",
        "\n",
        "lr_train_score = score(y_train, lr.predict(X_train_subset))\n",
        "lr_test_score = score(y_test, lr.predict(X_test_subset))\n",
        "\n",
        "print(\"lr train accu:\", round(lr_train_score, 4))\n",
        "print(\"lr test_accu:\", round(lr_test_score, 4))\n",
        "\n",
        "nb = BinaryRelevance(classifier = GaussianNB())\n",
        "nb.fit(X_train_subset, y_train)\n",
        "\n",
        "nb_train_score = score(y_train, nb.predict(X_train_subset))\n",
        "nb_test_score = score(y_test, nb.predict(X_test_subset))\n",
        "\n",
        "print(\"nb train accu:\", round(nb_train_score, 4))\n",
        "print(\"nb test_accu:\", round(nb_test_score, 4))\n",
        "\n",
        "knn = BinaryRelevance(classifier = KNeighborsClassifier())\n",
        "knn.fit(X_train_subset, y_train)\n",
        "\n",
        "knn_train_score = score(y_train, knn.predict(X_train_subset))\n",
        "knn_test_score = score(y_test, knn.predict(X_test_subset))\n",
        "\n",
        "print(\"knn train accu:\", round(knn_train_score, 4))\n",
        "print(\"knn test_accu:\", round(knn_test_score, 4))\n",
        "\n",
        "avg_train_score = (lr_train_score + nb_train_score + knn_train_score) / 3\n",
        "avg_test_score = (lr_test_score + nb_test_score + knn_test_score) / 3\n",
        "\n",
        "print(\"avg train accu:\", round(avg_train_score, 4))\n",
        "print(\"avg test_accu:\", round(avg_test_score, 4))"
      ]
    }
  ],
  "metadata": {
    "colab": {
      "collapsed_sections": [],
      "provenance": []
    },
    "kernelspec": {
      "display_name": "Python 3",
      "name": "python3"
    },
    "language_info": {
      "name": "python"
    }
  },
  "nbformat": 4,
  "nbformat_minor": 0
}
